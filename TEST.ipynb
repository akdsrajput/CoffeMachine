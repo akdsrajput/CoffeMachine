{
 "cells": [
  {
   "cell_type": "code",
   "execution_count": 16,
   "metadata": {
    "collapsed": true
   },
   "outputs": [
    {
     "name": "stdout",
     "output_type": "stream",
     "text": [
      "a is False\n",
      "a is \n"
     ]
    }
   ],
   "source": [
    "def test():\n",
    "    a = True\n",
    "    b= False\n",
    "    # a= False\n",
    "    if not a:\n",
    "        a= False\n",
    "        print(\"a\")\n",
    "    elif b:\n",
    "        print(\"b\")\n",
    "\n",
    "    elif a:\n",
    "        a=False\n",
    "        print(\"a is False\")\n",
    "    if not a:\n",
    "        print(\"a is \")\n",
    "test()"
   ]
  }
 ],
 "metadata": {
  "kernelspec": {
   "display_name": "Python 3",
   "language": "python",
   "name": "python3"
  },
  "language_info": {
   "codemirror_mode": {
    "name": "ipython",
    "version": 2
   },
   "file_extension": ".py",
   "mimetype": "text/x-python",
   "name": "python",
   "nbconvert_exporter": "python",
   "pygments_lexer": "ipython2",
   "version": "2.7.6"
  }
 },
 "nbformat": 4,
 "nbformat_minor": 0
}
